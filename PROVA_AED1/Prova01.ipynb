{
 "cells": [
  {
   "cell_type": "code",
   "execution_count": 5,
   "id": "bfb90f71-e684-49de-ac39-29ee8ba86f61",
   "metadata": {},
   "outputs": [
    {
     "name": "stdin",
     "output_type": "stream",
     "text": [
      "Digite o primeiro valor inteiro positivo:  6\n",
      "Digite o segundo valor inteiro positivo:  9\n",
      "Digite o terceiro valor inteiro positivo:  5\n"
     ]
    },
    {
     "name": "stdout",
     "output_type": "stream",
     "text": [
      "A média aritmética dos dois maiores valores é: 7.5\n"
     ]
    }
   ],
   "source": [
    "a = int(input(\"Digite o primeiro valor inteiro positivo: \"))\n",
    "b = int(input(\"Digite o segundo valor inteiro positivo: \"))\n",
    "c = int(input(\"Digite o terceiro valor inteiro positivo: \"))\n",
    "if a <= 0 or b <= 0 or c <= 0:\n",
    "    print(\"Todos os valores devem ser inteiros e positivos.\")\n",
    "else:\n",
    "    # Ordenando e pegando os dois maiores\n",
    "    lista = [a, b, c]\n",
    "    lista.sort(reverse=True)\n",
    "    media = (lista[0] + lista[1]) / 2\n",
    "    print(\"A média aritmética dos dois maiores valores é:\", media)"
   ]
  }
 ],
 "metadata": {
  "kernelspec": {
   "display_name": "Python [conda env:anaconda3]",
   "language": "python",
   "name": "conda-env-anaconda3-py"
  },
  "language_info": {
   "codemirror_mode": {
    "name": "ipython",
    "version": 3
   },
   "file_extension": ".py",
   "mimetype": "text/x-python",
   "name": "python",
   "nbconvert_exporter": "python",
   "pygments_lexer": "ipython3",
   "version": "3.13.5"
  }
 },
 "nbformat": 4,
 "nbformat_minor": 5
}
